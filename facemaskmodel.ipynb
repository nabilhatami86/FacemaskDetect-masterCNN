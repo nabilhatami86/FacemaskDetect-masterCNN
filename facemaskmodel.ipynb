{
 "cells": [
  {
   "metadata": {
    "_uuid": "8f2839f25d086af736a60e9eeb907d3b93b6e0e5",
    "_cell_guid": "b1076dfc-b9ad-4769-8c92-a6c4dae69d19",
    "trusted": true
   },
   "cell_type": "code",
   "source": [
    "# This Python 3 environment comes with many helpful analytics libraries installed\n",
    "# It is defined by the kaggle/python Docker image: https://github.com/kaggle/docker-python\n",
    "# For example, here's several helpful packages to load\n",
    "\n",
    "import numpy as np # linear algebra\n",
    "import keras\n",
    "\n",
    "# Input data files are available in the read-only \"../input/\" directory\n",
    "# For example, running this (by clicking run or pressing Shift+Enter) will list all files under the input directory\n",
    "\n",
    "#import os\n",
    "#for dirname, _, filenames in os.walk('../input/face/'):\n",
    "#    for filename in filenames:\n",
    "#        print(os.path.join(dirname, filename))\n",
    "\n",
    "# You can write up to 5GB to the current directory (/kaggle/working/) that gets preserved as output when you create a version using \"Save & Run All\" \n",
    "# You can also write temporary files to /kaggle/temp/, but they won't be saved outside of the current session"
   ],
   "execution_count": 1,
   "outputs": []
  },
  {
   "metadata": {
    "_uuid": "d629ff2d2480ee46fbb7e2d37f6b5fab8052498a",
    "_cell_guid": "79c7e3d0-c299-4dcb-8224-4455121ee9b0",
    "trusted": true
   },
   "cell_type": "code",
   "source": [
    "traingenerator = keras.preprocessing.image.ImageDataGenerator(rescale = 1./255, shear_range = 0.2, zoom_range = 0.2, horizontal_flip=True)\n",
    "testgenerator = keras.preprocessing.image.ImageDataGenerator(rescale = 1./255)"
   ],
   "execution_count": 2,
   "outputs": []
  },
  {
   "metadata": {
    "trusted": true
   },
   "cell_type": "code",
   "source": [
    "data_train = traingenerator.flow_from_directory('../input/facedataset/face/train', target_size=(75, 75), class_mode = 'binary',batch_size = 1)\n",
    "data_test = testgenerator.flow_from_directory('../input/facedataset/face/test', target_size=(75, 75), class_mode = 'binary',batch_size = 1)"
   ],
   "execution_count": 3,
   "outputs": [
    {
     "output_type": "stream",
     "text": "Found 90 images belonging to 2 classes.\nFound 90 images belonging to 2 classes.\n",
     "name": "stdout"
    }
   ]
  },
  {
   "metadata": {
    "trusted": true
   },
   "cell_type": "code",
   "source": [
    "from keras.layers import  Input, Conv2D, Flatten, Dense, Dropout, MaxPooling2D\n",
    "\n",
    "inputs = Input(shape=(75,75,3))\n",
    "x = Conv2D(32,3,activation='relu')(inputs)\n",
    "x = MaxPooling2D(pool_size = (2, 2))(x)\n",
    "\n",
    "x = Conv2D(32,3,activation='relu')(x)\n",
    "x = MaxPooling2D(pool_size = (2, 2))(x)\n",
    "\n",
    "x = Conv2D(32,3,activation='relu')(x)\n",
    "x = MaxPooling2D(pool_size = (2, 2))(x)\n",
    "\n",
    "x = Flatten()(x)\n",
    "x = Dropout(0.5)(x)\n",
    "x = Dense(50, activation='relu')(x)\n",
    "outputs = Dense(1 , activation='sigmoid')(x)\n",
    "\n",
    "model = keras.Model(inputs=inputs, outputs=outputs, name=\"facemask_model\")\n",
    "model.summary()"
   ],
   "execution_count": 4,
   "outputs": [
    {
     "output_type": "stream",
     "text": "Model: \"facemask_model\"\n_________________________________________________________________\nLayer (type)                 Output Shape              Param #   \n=================================================================\ninput_1 (InputLayer)         [(None, 75, 75, 3)]       0         \n_________________________________________________________________\nconv2d (Conv2D)              (None, 73, 73, 32)        896       \n_________________________________________________________________\nmax_pooling2d (MaxPooling2D) (None, 36, 36, 32)        0         \n_________________________________________________________________\nconv2d_1 (Conv2D)            (None, 34, 34, 32)        9248      \n_________________________________________________________________\nmax_pooling2d_1 (MaxPooling2 (None, 17, 17, 32)        0         \n_________________________________________________________________\nconv2d_2 (Conv2D)            (None, 15, 15, 32)        9248      \n_________________________________________________________________\nmax_pooling2d_2 (MaxPooling2 (None, 7, 7, 32)          0         \n_________________________________________________________________\nflatten (Flatten)            (None, 1568)              0         \n_________________________________________________________________\ndropout (Dropout)            (None, 1568)              0         \n_________________________________________________________________\ndense (Dense)                (None, 50)                78450     \n_________________________________________________________________\ndense_1 (Dense)              (None, 1)                 51        \n=================================================================\nTotal params: 97,893\nTrainable params: 97,893\nNon-trainable params: 0\n_________________________________________________________________\n",
     "name": "stdout"
    }
   ]
  },
  {
   "metadata": {
    "trusted": true
   },
   "cell_type": "code",
   "source": [
    "model.compile(optimizer='sgd', loss=keras.losses.BinaryCrossentropy(), metrics=[keras.metrics.BinaryCrossentropy()])"
   ],
   "execution_count": 5,
   "outputs": []
  },
  {
   "metadata": {
    "trusted": true
   },
   "cell_type": "code",
   "source": [
    "model.fit_generator(data_train,epochs = 50 ,validation_data = data_test)"
   ],
   "execution_count": 6,
   "outputs": [
    {
     "output_type": "stream",
     "text": "Epoch 1/50\n90/90 [==============================] - 1s 12ms/step - loss: 0.6864 - binary_crossentropy: 0.6864 - val_loss: 0.6815 - val_binary_crossentropy: 0.6815\nEpoch 2/50\n90/90 [==============================] - 1s 10ms/step - loss: 0.6839 - binary_crossentropy: 0.6839 - val_loss: 0.6791 - val_binary_crossentropy: 0.6791\nEpoch 3/50\n90/90 [==============================] - 1s 10ms/step - loss: 0.6854 - binary_crossentropy: 0.6854 - val_loss: 0.6609 - val_binary_crossentropy: 0.6609\nEpoch 4/50\n90/90 [==============================] - 1s 9ms/step - loss: 0.6687 - binary_crossentropy: 0.6687 - val_loss: 0.6221 - val_binary_crossentropy: 0.6221\nEpoch 5/50\n90/90 [==============================] - 1s 9ms/step - loss: 0.6378 - binary_crossentropy: 0.6378 - val_loss: 0.6118 - val_binary_crossentropy: 0.6118\nEpoch 6/50\n90/90 [==============================] - 1s 11ms/step - loss: 0.5374 - binary_crossentropy: 0.5374 - val_loss: 0.3797 - val_binary_crossentropy: 0.3797\nEpoch 7/50\n90/90 [==============================] - 1s 12ms/step - loss: 0.4758 - binary_crossentropy: 0.4758 - val_loss: 0.4189 - val_binary_crossentropy: 0.4189\nEpoch 8/50\n90/90 [==============================] - 1s 10ms/step - loss: 0.4860 - binary_crossentropy: 0.4860 - val_loss: 0.2064 - val_binary_crossentropy: 0.2064\nEpoch 9/50\n90/90 [==============================] - 1s 9ms/step - loss: 0.4475 - binary_crossentropy: 0.4475 - val_loss: 0.3980 - val_binary_crossentropy: 0.3980\nEpoch 10/50\n90/90 [==============================] - 1s 10ms/step - loss: 0.2609 - binary_crossentropy: 0.2609 - val_loss: 0.2051 - val_binary_crossentropy: 0.2051\nEpoch 11/50\n90/90 [==============================] - 1s 10ms/step - loss: 0.5121 - binary_crossentropy: 0.5121 - val_loss: 0.1972 - val_binary_crossentropy: 0.1972\nEpoch 12/50\n90/90 [==============================] - 1s 9ms/step - loss: 0.2885 - binary_crossentropy: 0.2885 - val_loss: 0.2613 - val_binary_crossentropy: 0.2613\nEpoch 13/50\n90/90 [==============================] - 1s 10ms/step - loss: 0.3312 - binary_crossentropy: 0.3312 - val_loss: 0.1040 - val_binary_crossentropy: 0.1040\nEpoch 14/50\n90/90 [==============================] - 1s 9ms/step - loss: 0.2397 - binary_crossentropy: 0.2397 - val_loss: 0.1682 - val_binary_crossentropy: 0.1682\nEpoch 15/50\n90/90 [==============================] - 1s 12ms/step - loss: 0.3315 - binary_crossentropy: 0.3315 - val_loss: 0.0826 - val_binary_crossentropy: 0.0826\nEpoch 16/50\n90/90 [==============================] - 1s 11ms/step - loss: 0.1690 - binary_crossentropy: 0.1690 - val_loss: 0.2107 - val_binary_crossentropy: 0.2107\nEpoch 17/50\n90/90 [==============================] - 1s 9ms/step - loss: 0.2057 - binary_crossentropy: 0.2057 - val_loss: 0.2301 - val_binary_crossentropy: 0.2301\nEpoch 18/50\n90/90 [==============================] - 1s 9ms/step - loss: 0.1152 - binary_crossentropy: 0.1152 - val_loss: 0.1375 - val_binary_crossentropy: 0.1375\nEpoch 19/50\n90/90 [==============================] - 2s 17ms/step - loss: 0.2474 - binary_crossentropy: 0.2474 - val_loss: 0.2476 - val_binary_crossentropy: 0.2476\nEpoch 20/50\n90/90 [==============================] - 1s 10ms/step - loss: 0.2007 - binary_crossentropy: 0.2007 - val_loss: 0.1540 - val_binary_crossentropy: 0.1540\nEpoch 21/50\n90/90 [==============================] - 1s 10ms/step - loss: 0.0585 - binary_crossentropy: 0.0585 - val_loss: 0.2217 - val_binary_crossentropy: 0.2217\nEpoch 22/50\n90/90 [==============================] - 1s 10ms/step - loss: 0.2861 - binary_crossentropy: 0.2861 - val_loss: 0.1034 - val_binary_crossentropy: 0.1034\nEpoch 23/50\n90/90 [==============================] - 1s 10ms/step - loss: 0.1436 - binary_crossentropy: 0.1436 - val_loss: 0.0450 - val_binary_crossentropy: 0.0450\nEpoch 24/50\n90/90 [==============================] - 1s 11ms/step - loss: 0.0703 - binary_crossentropy: 0.0703 - val_loss: 0.0765 - val_binary_crossentropy: 0.0765\nEpoch 25/50\n90/90 [==============================] - 1s 9ms/step - loss: 0.3230 - binary_crossentropy: 0.3230 - val_loss: 0.1161 - val_binary_crossentropy: 0.1161\nEpoch 26/50\n90/90 [==============================] - 1s 10ms/step - loss: 0.1885 - binary_crossentropy: 0.1885 - val_loss: 0.1129 - val_binary_crossentropy: 0.1129\nEpoch 27/50\n90/90 [==============================] - 1s 9ms/step - loss: 0.1576 - binary_crossentropy: 0.1576 - val_loss: 0.0782 - val_binary_crossentropy: 0.0782\nEpoch 28/50\n90/90 [==============================] - 1s 10ms/step - loss: 0.1171 - binary_crossentropy: 0.1171 - val_loss: 0.0294 - val_binary_crossentropy: 0.0294\nEpoch 29/50\n90/90 [==============================] - 1s 12ms/step - loss: 0.3009 - binary_crossentropy: 0.3009 - val_loss: 0.4004 - val_binary_crossentropy: 0.4004\nEpoch 30/50\n90/90 [==============================] - 1s 13ms/step - loss: 0.2160 - binary_crossentropy: 0.2160 - val_loss: 0.0779 - val_binary_crossentropy: 0.0779\nEpoch 31/50\n90/90 [==============================] - 1s 10ms/step - loss: 0.0903 - binary_crossentropy: 0.0903 - val_loss: 0.6758 - val_binary_crossentropy: 0.6758\nEpoch 32/50\n90/90 [==============================] - 1s 9ms/step - loss: 0.2478 - binary_crossentropy: 0.2478 - val_loss: 0.0967 - val_binary_crossentropy: 0.0967\nEpoch 33/50\n90/90 [==============================] - 1s 10ms/step - loss: 0.1009 - binary_crossentropy: 0.1009 - val_loss: 0.0650 - val_binary_crossentropy: 0.0650\nEpoch 34/50\n90/90 [==============================] - 1s 9ms/step - loss: 0.1348 - binary_crossentropy: 0.1348 - val_loss: 0.0307 - val_binary_crossentropy: 0.0307\nEpoch 35/50\n90/90 [==============================] - 1s 9ms/step - loss: 0.0560 - binary_crossentropy: 0.0560 - val_loss: 0.0185 - val_binary_crossentropy: 0.0185\nEpoch 36/50\n90/90 [==============================] - 1s 10ms/step - loss: 0.2611 - binary_crossentropy: 0.2611 - val_loss: 0.1434 - val_binary_crossentropy: 0.1434\nEpoch 37/50\n90/90 [==============================] - 1s 9ms/step - loss: 0.1404 - binary_crossentropy: 0.1404 - val_loss: 0.0451 - val_binary_crossentropy: 0.0451\nEpoch 38/50\n90/90 [==============================] - 1s 10ms/step - loss: 0.1436 - binary_crossentropy: 0.1436 - val_loss: 0.0325 - val_binary_crossentropy: 0.0325\nEpoch 39/50\n90/90 [==============================] - 1s 10ms/step - loss: 0.0265 - binary_crossentropy: 0.0265 - val_loss: 0.0233 - val_binary_crossentropy: 0.0233\nEpoch 40/50\n90/90 [==============================] - 1s 10ms/step - loss: 0.0829 - binary_crossentropy: 0.0829 - val_loss: 0.0817 - val_binary_crossentropy: 0.0817\nEpoch 41/50\n90/90 [==============================] - 1s 10ms/step - loss: 0.0843 - binary_crossentropy: 0.0843 - val_loss: 0.0867 - val_binary_crossentropy: 0.0867\nEpoch 42/50\n90/90 [==============================] - 1s 12ms/step - loss: 0.1444 - binary_crossentropy: 0.1444 - val_loss: 0.0439 - val_binary_crossentropy: 0.0439\nEpoch 43/50\n90/90 [==============================] - 1s 9ms/step - loss: 0.0292 - binary_crossentropy: 0.0292 - val_loss: 0.0273 - val_binary_crossentropy: 0.0273\nEpoch 44/50\n90/90 [==============================] - 1s 10ms/step - loss: 0.2080 - binary_crossentropy: 0.2080 - val_loss: 0.0484 - val_binary_crossentropy: 0.0484\nEpoch 45/50\n90/90 [==============================] - 1s 9ms/step - loss: 0.1384 - binary_crossentropy: 0.1384 - val_loss: 0.1894 - val_binary_crossentropy: 0.1894\nEpoch 46/50\n90/90 [==============================] - 1s 10ms/step - loss: 0.0935 - binary_crossentropy: 0.0935 - val_loss: 0.0135 - val_binary_crossentropy: 0.0135\nEpoch 47/50\n90/90 [==============================] - 1s 10ms/step - loss: 0.0418 - binary_crossentropy: 0.0418 - val_loss: 0.0076 - val_binary_crossentropy: 0.0076\nEpoch 48/50\n90/90 [==============================] - 1s 9ms/step - loss: 0.1167 - binary_crossentropy: 0.1167 - val_loss: 0.0209 - val_binary_crossentropy: 0.0209\nEpoch 49/50\n90/90 [==============================] - 1s 9ms/step - loss: 0.0224 - binary_crossentropy: 0.0224 - val_loss: 0.0069 - val_binary_crossentropy: 0.0069\nEpoch 50/50\n90/90 [==============================] - 1s 9ms/step - loss: 0.1079 - binary_crossentropy: 0.1079 - val_loss: 0.0372 - val_binary_crossentropy: 0.0372\n",
     "name": "stdout"
    },
    {
     "output_type": "execute_result",
     "execution_count": 6,
     "data": {
      "text/plain": "<tensorflow.python.keras.callbacks.History at 0x7fa9cd3a2b90>"
     },
     "metadata": {}
    }
   ]
  },
  {
   "metadata": {
    "trusted": true
   },
   "cell_type": "code",
   "source": [
    "model.save('facemodel.h5')"
   ],
   "execution_count": 7,
   "outputs": []
  }
 ],
 "metadata": {
  "kernelspec": {
   "name": "python3",
   "display_name": "Python 3",
   "language": "python"
  },
  "language_info": {
   "name": "python",
   "version": "3.7.6",
   "mimetype": "text/x-python",
   "codemirror_mode": {
    "name": "ipython",
    "version": 3
   },
   "pygments_lexer": "ipython3",
   "nbconvert_exporter": "python",
   "file_extension": ".py"
  }
 },
 "nbformat": 4,
 "nbformat_minor": 4
}
